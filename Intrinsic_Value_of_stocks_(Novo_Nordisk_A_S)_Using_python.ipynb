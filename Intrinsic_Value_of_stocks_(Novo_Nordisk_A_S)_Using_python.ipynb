{
  "nbformat": 4,
  "nbformat_minor": 0,
  "metadata": {
    "colab": {
      "provenance": [],
      "collapsed_sections": []
    },
    "kernelspec": {
      "name": "python3",
      "display_name": "Python 3"
    },
    "language_info": {
      "name": "python"
    }
  },
  "cells": [
    {
      "cell_type": "code",
      "source": [
        "#!pip install yahoofinancials\n",
        "#!pip install yahoo_fin"
      ],
      "metadata": {
        "id": "931neOVobvNp"
      },
      "execution_count": 1,
      "outputs": []
    },
    {
      "cell_type": "markdown",
      "source": [
        "Calculate fair value of stock using DCF Techniques"
      ],
      "metadata": {
        "id": "Juv77KU2eMI9"
      }
    },
    {
      "cell_type": "code",
      "source": [
        "from yahoofinancials import YahooFinancials\n",
        "import yahoo_fin.stock_info as si"
      ],
      "metadata": {
        "id": "4VJPIELtbxPh"
      },
      "execution_count": 2,
      "outputs": []
    },
    {
      "cell_type": "code",
      "source": [
        "ticker= 'NVO'\n",
        "#Novo Nordisk A/S "
      ],
      "metadata": {
        "id": "RHOhWVdbb4Jt"
      },
      "execution_count": 3,
      "outputs": []
    },
    {
      "cell_type": "code",
      "source": [
        "stock_obj = YahooFinancials(ticker)\n",
        "price_dict = stock_obj.get_stock_price_data()[ticker]\n",
        "current = price_dict['regularMarketPreviousClose']\n",
        "currency = price_dict['currency']\n",
        "shares_outstandings = stock_obj.get_num_shares_outstanding()\n"
      ],
      "metadata": {
        "id": "hd2k5kp7b-Fh"
      },
      "execution_count": 4,
      "outputs": []
    },
    {
      "cell_type": "code",
      "source": [
        "EarningPerShare_dict = stock_obj.get_earnings_per_share()\n",
        "EarningPerShare_dict"
      ],
      "metadata": {
        "colab": {
          "base_uri": "https://localhost:8080/"
        },
        "id": "_I-LZE2ccfzE",
        "outputId": "b427766e-63af-42a9-b565-5ed836dfd75f"
      },
      "execution_count": 5,
      "outputs": [
        {
          "output_type": "execute_result",
          "data": {
            "text/plain": [
              "2.930000146758193"
            ]
          },
          "metadata": {},
          "execution_count": 5
        }
      ]
    },
    {
      "cell_type": "code",
      "source": [
        "shares_outstandings"
      ],
      "metadata": {
        "colab": {
          "base_uri": "https://localhost:8080/"
        },
        "id": "4jhienmqcl5d",
        "outputId": "93d40c43-8603-4429-ae98-2772b719ccd0"
      },
      "execution_count": 6,
      "outputs": [
        {
          "output_type": "execute_result",
          "data": {
            "text/plain": [
              "2257289984.9735646"
            ]
          },
          "metadata": {},
          "execution_count": 6
        }
      ]
    },
    {
      "cell_type": "code",
      "source": [
        "Projected_GR = si.get_analysts_info(ticker)['Growth Estimates'][ticker]\n",
        "Projected_GR\n",
        "df= Projected_GR.to_frame(name='GR')\n",
        "df['GR']= df['GR'].str.rstrip('%').astype('float')\n",
        "x=df._get_value(4, 'GR')"
      ],
      "metadata": {
        "id": "OR7Xv3oMco0m"
      },
      "execution_count": 7,
      "outputs": []
    },
    {
      "cell_type": "code",
      "source": [
        "earnings_dict = {0:round(stock_obj.get_earnings_per_share(),2)}\n",
        "earnings_dict"
      ],
      "metadata": {
        "colab": {
          "base_uri": "https://localhost:8080/"
        },
        "id": "DxBtXQJHcsMK",
        "outputId": "0a0508aa-a424-4929-f8b3-9a57dd8ff184"
      },
      "execution_count": 8,
      "outputs": [
        {
          "output_type": "execute_result",
          "data": {
            "text/plain": [
              "{0: 2.93}"
            ]
          },
          "metadata": {},
          "execution_count": 8
        }
      ]
    },
    {
      "cell_type": "code",
      "source": [
        "for i in range(1,10):\n",
        "  j = i - 1\n",
        "  earnings_dict[i] = round(earnings_dict[j]+(earnings_dict[j] * (x/100)),2)"
      ],
      "metadata": {
        "id": "XVXmmKSqcvoz"
      },
      "execution_count": 9,
      "outputs": []
    },
    {
      "cell_type": "code",
      "source": [
        "earnings_dict"
      ],
      "metadata": {
        "colab": {
          "base_uri": "https://localhost:8080/"
        },
        "id": "fSw23qWpczOG",
        "outputId": "7a9cd088-cae0-4276-fff7-575e8e4e4383"
      },
      "execution_count": 10,
      "outputs": [
        {
          "output_type": "execute_result",
          "data": {
            "text/plain": [
              "{0: 2.93,\n",
              " 1: 2.99,\n",
              " 2: 3.05,\n",
              " 3: 3.11,\n",
              " 4: 3.17,\n",
              " 5: 3.23,\n",
              " 6: 3.29,\n",
              " 7: 3.35,\n",
              " 8: 3.42,\n",
              " 9: 3.49}"
            ]
          },
          "metadata": {},
          "execution_count": 10
        }
      ]
    },
    {
      "cell_type": "code",
      "source": [
        "intrinsic_price_dict = {0: earnings_dict[0]*(x)}\n",
        "for i in range(1,10):\n",
        "   j = i - 1\n",
        "   intrinsic_price_dict[i] = intrinsic_price_dict[j]/(1+0.15)"
      ],
      "metadata": {
        "id": "8B_eCJ0dc2c2"
      },
      "execution_count": 11,
      "outputs": []
    },
    {
      "cell_type": "code",
      "source": [
        "intrinsic_price_dict"
      ],
      "metadata": {
        "colab": {
          "base_uri": "https://localhost:8080/"
        },
        "id": "a0yjjZ_4c6TN",
        "outputId": "a2f609e2-7e54-4e10-d393-76616a8f4ccb"
      },
      "execution_count": 12,
      "outputs": [
        {
          "output_type": "execute_result",
          "data": {
            "text/plain": [
              "{0: 5.7135,\n",
              " 1: 4.968260869565218,\n",
              " 2: 4.32022684310019,\n",
              " 3: 3.756718994000165,\n",
              " 4: 3.266712168695796,\n",
              " 5: 2.8406192771267795,\n",
              " 6: 2.470103719240678,\n",
              " 7: 2.14791627760059,\n",
              " 8: 1.8677532848700784,\n",
              " 9: 1.6241332911913726}"
            ]
          },
          "metadata": {},
          "execution_count": 12
        }
      ]
    },
    {
      "cell_type": "code",
      "source": [
        "current_intrinsic_price = round(intrinsic_price_dict[0],2)\n",
        "buyable_price = round((current_intrinsic_price * 0.8), 2)\n",
        "\n",
        "buyable_price"
      ],
      "metadata": {
        "colab": {
          "base_uri": "https://localhost:8080/"
        },
        "id": "ujmrwKUsdCP5",
        "outputId": "2ef9474f-7baf-48cd-dd38-5428a8271ebc"
      },
      "execution_count": 13,
      "outputs": [
        {
          "output_type": "execute_result",
          "data": {
            "text/plain": [
              "4.57"
            ]
          },
          "metadata": {},
          "execution_count": 13
        }
      ]
    },
    {
      "cell_type": "code",
      "source": [
        "if buyable_price > stock_obj.get_daily_high():\n",
        "        print(f\"{ticker}: Cheap\\nTarget = <DKK{buyable_price}\\nCurrent = DKK{current}.\")\n",
        "else:\n",
        "        print(f'{ticker}: Expensive\\nTarget = <DKK{buyable_price}\\nCurrent = DKK{current}')"
      ],
      "metadata": {
        "colab": {
          "base_uri": "https://localhost:8080/"
        },
        "id": "HtpYemcEdDIG",
        "outputId": "55e74494-0305-4eff-a0df-37a718ce9f4f"
      },
      "execution_count": 15,
      "outputs": [
        {
          "output_type": "stream",
          "name": "stdout",
          "text": [
            "NVO: Expensive\n",
            "Target = <DKK4.57\n",
            "Current = DKK108.17\n"
          ]
        }
      ]
    },
    {
      "cell_type": "code",
      "source": [],
      "metadata": {
        "id": "Q1s0hH5jeqLG"
      },
      "execution_count": null,
      "outputs": []
    }
  ]
}